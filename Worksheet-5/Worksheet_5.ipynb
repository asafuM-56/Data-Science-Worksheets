{
  "nbformat": 4,
  "nbformat_minor": 0,
  "metadata": {
    "colab": {
      "provenance": [],
      "authorship_tag": "ABX9TyP2wmhWHshuPM1wAhb/g+mm",
      "include_colab_link": true
    },
    "kernelspec": {
      "name": "python3",
      "display_name": "Python 3"
    },
    "language_info": {
      "name": "python"
    }
  },
  "cells": [
    {
      "cell_type": "markdown",
      "metadata": {
        "id": "view-in-github",
        "colab_type": "text"
      },
      "source": [
        "<a href=\"https://colab.research.google.com/github/asafuM-56/Data-Science-Worksheets/blob/main/Worksheet_5.ipynb\" target=\"_parent\"><img src=\"https://colab.research.google.com/assets/colab-badge.svg\" alt=\"Open In Colab\"/></a>"
      ]
    },
    {
      "cell_type": "markdown",
      "source": [
        "Importing the necessary packages"
      ],
      "metadata": {
        "id": "DIA8m5VxPjNz"
      }
    },
    {
      "cell_type": "code",
      "source": [
        "!pip install shap -q\n",
        "\n",
        "\n",
        "import pandas as pd\n",
        "import numpy as np\n",
        "from sklearn.model_selection import cross_val_score, train_test_split\n",
        "\n",
        "\n",
        "from sklearn.preprocessing import StandardScaler, OneHotEncoder\n",
        "from sklearn.compose import ColumnTransformer\n",
        "from sklearn.pipeline import Pipeline\n",
        "\n",
        "from sklearn.preprocessing import FunctionTransformer\n",
        "from sklearn.preprocessing import PolynomialFeatures\n",
        "import numpy as np\n",
        "\n",
        "from sklearn.ensemble import StackingRegressor\n",
        "from sklearn.linear_model import SGDRegressor\n",
        "from sklearn.ensemble import RandomForestRegressor\n",
        "from sklearn.ensemble import GradientBoostingRegressor\n",
        "from sklearn.ensemble import AdaBoostRegressor\n",
        "from sklearn.tree import DecisionTreeRegressor\n",
        "from sklearn.neural_network import MLPRegressor\n",
        "from sklearn.svm import SVR\n",
        "from xgboost import XGBRegressor\n",
        "from sklearn.linear_model import LinearRegression\n",
        "from sklearn.ensemble import ExtraTreesRegressor\n",
        "import joblib\n",
        "import seaborn as sns\n",
        "import matplotlib\n",
        "import matplotlib.pyplot as plt\n",
        "import matplotlib as mpl\n",
        "import scipy.stats as stats\n",
        "import plotly.graph_objects as go\n",
        "import plotly.express as px\n",
        "from scipy.stats import spearmanr\n",
        "from scipy.cluster import hierarchy\n",
        "from scipy.spatial.distance import squareform\n",
        "\n",
        "# Import filters to remove unnecessary warnings\n",
        "from warnings import simplefilter\n",
        "import warnings\n",
        "warnings.filterwarnings(\"ignore\")\n",
        "from sklearn.exceptions import ConvergenceWarning\n",
        "\n",
        "from scipy.cluster import hierarchy\n",
        "from scipy.spatial.distance import squareform\n",
        "\n",
        "# Import filters to remove unnecessary warnings\n",
        "from warnings import simplefilter\n",
        "import warnings\n",
        "warnings.filterwarnings(\"ignore\")\n",
        "\n",
        "from sklearn.metrics import mean_absolute_percentage_error, mean_squared_error, r2_score, mean_absolute_error\n",
        "import shap\n"
      ],
      "metadata": {
        "colab": {
          "base_uri": "https://localhost:8080/"
        },
        "id": "J8FIHEOZP7Vy",
        "outputId": "0d0c9e42-dd67-42d1-8470-ea6e6843c3b5"
      },
      "execution_count": 19,
      "outputs": [
        {
          "output_type": "stream",
          "name": "stdout",
          "text": [
            "\u001b[?25l   \u001b[90m━━━━━━━━━━━━━━━━━━━━━━━━━━━━━━━━━━━━━━━━\u001b[0m \u001b[32m0.0/540.1 kB\u001b[0m \u001b[31m?\u001b[0m eta \u001b[36m-:--:--\u001b[0m\r\u001b[2K   \u001b[91m━━━━━━━━━━━━━━━━━━━━━━━━━━━━━━━━━━━━━━━\u001b[0m\u001b[90m╺\u001b[0m \u001b[32m532.5/540.1 kB\u001b[0m \u001b[31m20.8 MB/s\u001b[0m eta \u001b[36m0:00:01\u001b[0m\r\u001b[2K   \u001b[90m━━━━━━━━━━━━━━━━━━━━━━━━━━━━━━━━━━━━━━━━\u001b[0m \u001b[32m540.1/540.1 kB\u001b[0m \u001b[31m10.8 MB/s\u001b[0m eta \u001b[36m0:00:00\u001b[0m\n",
            "\u001b[?25h"
          ]
        }
      ]
    },
    {
      "cell_type": "markdown",
      "source": [
        "Importing the dataset"
      ],
      "metadata": {
        "id": "iIae5T_wP-C5"
      }
    },
    {
      "cell_type": "code",
      "execution_count": 57,
      "metadata": {
        "colab": {
          "base_uri": "https://localhost:8080/"
        },
        "id": "dg0MD8u6cRxg",
        "outputId": "85e7690c-8d02-4508-b16d-93bd74416c1c"
      },
      "outputs": [
        {
          "output_type": "stream",
          "name": "stdout",
          "text": [
            "                                       Material name  \\\n",
            "0  Carbon nanotube functionalized with HNO3 at 80 °C   \n",
            "1  Carbon nanotube functionalized with HNO3 at 80 °C   \n",
            "2  Carbon nanotube functionalized with HNO3 at 80 °C   \n",
            "3  Carbon nanotube functionalized with HNO3 at 80 °C   \n",
            "4  Carbon nanotube functionalized with HNO3 at 80 °C   \n",
            "\n",
            "   Average crystal size (nm)  Crystalinity index (%)  \\\n",
            "0                   3.780644               82.394903   \n",
            "1                   3.780644               82.394903   \n",
            "2                   3.780644               82.394903   \n",
            "3                   3.780644               82.394903   \n",
            "4                   3.780644               82.394903   \n",
            "\n",
            "    BET surface area (m²/g)  Pore volume (cm³/g)  Temperature (K)  \\\n",
            "0                     125.2                1.018            298.0   \n",
            "1                     125.2                1.018            298.0   \n",
            "2                     125.2                1.018            298.0   \n",
            "3                     125.2                1.018            298.0   \n",
            "4                     125.2                1.018            298.0   \n",
            "\n",
            "  Pressure (bar)  Hydrogen uptake/adsorption (wt%)  Hydrogen desorption (wt%)  \n",
            "0              0                          0.000000                   0.011229  \n",
            "1        4.89664                          0.013857                        NaN  \n",
            "2        10.0696                          0.018396                   0.027713  \n",
            "3        20.0167                          0.032969                   0.040136  \n",
            "4        29.8414                          0.043720                   0.049454  \n",
            "       Average crystal size (nm)  Crystalinity index (%)  \\\n",
            "count                 539.000000              539.000000   \n",
            "mean                    8.166266               49.162962   \n",
            "std                     4.560454               16.764251   \n",
            "min                     2.977754               18.900143   \n",
            "25%                     3.669600               36.381961   \n",
            "50%                     9.032235               52.881608   \n",
            "75%                    12.543453               62.089987   \n",
            "max                    15.712170               82.394903   \n",
            "\n",
            "        BET surface area (m²/g)  Pore volume (cm³/g)  Temperature (K)  \\\n",
            "count                539.000000           539.000000       539.000000   \n",
            "mean                 258.195065             0.838367       246.267191   \n",
            "std                  214.466418             0.609617       152.823071   \n",
            "min                   39.200000             0.021000        77.000000   \n",
            "25%                   89.060000             0.307000        77.000000   \n",
            "50%                  204.000000             0.530000       298.000000   \n",
            "75%                  428.000000             1.410000       298.150000   \n",
            "max                  870.000000             1.891000       873.150000   \n",
            "\n",
            "       Hydrogen uptake/adsorption (wt%)  Hydrogen desorption (wt%)  \n",
            "count                        423.000000                 151.000000  \n",
            "mean                           0.601873                   0.750073  \n",
            "std                            0.736683                   0.662720  \n",
            "min                            0.000000                   0.011229  \n",
            "25%                            0.128914                   0.322376  \n",
            "50%                            0.429348                   0.527149  \n",
            "75%                            0.714981                   1.039475  \n",
            "max                            4.797770                   3.286860  \n"
          ]
        }
      ],
      "source": [
        "#Loading the Dataset\n",
        "import pandas as pd\n",
        "\n",
        "# Loading the Dataset using the file path method\n",
        "file_path = '/content/Hydrogen storage dataset.xlsx'\n",
        "\n",
        "# Read the Excel file into a Pandas DataFrame\n",
        "df = pd.read_excel(file_path)\n",
        "\n",
        "print(df.head())  # Print the first few rows of the DataFrame\n",
        "print(df.describe())"
      ]
    },
    {
      "cell_type": "markdown",
      "source": [
        "Printing Data Types"
      ],
      "metadata": {
        "id": "oSOSxKDldLvN"
      }
    },
    {
      "cell_type": "code",
      "source": [
        "# Get the data types of each column\n",
        "data_types = df.dtypes\n",
        "\n",
        "# Print the data types\n",
        "print(data_types)"
      ],
      "metadata": {
        "colab": {
          "base_uri": "https://localhost:8080/"
        },
        "id": "f0wm7xb5dNYo",
        "outputId": "30b736e8-3f36-47c5-f0b4-6432d16eb6cc"
      },
      "execution_count": 58,
      "outputs": [
        {
          "output_type": "stream",
          "name": "stdout",
          "text": [
            "Material name                        object\n",
            "Average crystal size (nm)           float64\n",
            "Crystalinity index (%)              float64\n",
            " BET surface area (m²/g)            float64\n",
            "Pore volume (cm³/g)                 float64\n",
            "Temperature (K)                     float64\n",
            "Pressure (bar)                       object\n",
            "Hydrogen uptake/adsorption (wt%)    float64\n",
            "Hydrogen desorption (wt%)           float64\n",
            "dtype: object\n"
          ]
        }
      ]
    },
    {
      "cell_type": "markdown",
      "source": [
        "Changing Pressure from object to float"
      ],
      "metadata": {
        "id": "N4HPN9cGdkgG"
      }
    },
    {
      "cell_type": "code",
      "source": [
        "df['Pressure (bar)'] = df['Pressure (bar)'].astype(float)\n",
        "\n",
        "# Get the data types of each column\n",
        "data_types = df.dtypes\n",
        "\n",
        "# Print the data types\n",
        "print(data_types)"
      ],
      "metadata": {
        "colab": {
          "base_uri": "https://localhost:8080/"
        },
        "id": "BSBspF5Fdo3c",
        "outputId": "4fb40f21-3d8f-445c-ee04-444809035e3e"
      },
      "execution_count": 59,
      "outputs": [
        {
          "output_type": "stream",
          "name": "stdout",
          "text": [
            "Material name                        object\n",
            "Average crystal size (nm)           float64\n",
            "Crystalinity index (%)              float64\n",
            " BET surface area (m²/g)            float64\n",
            "Pore volume (cm³/g)                 float64\n",
            "Temperature (K)                     float64\n",
            "Pressure (bar)                      float64\n",
            "Hydrogen uptake/adsorption (wt%)    float64\n",
            "Hydrogen desorption (wt%)           float64\n",
            "dtype: object\n"
          ]
        }
      ]
    },
    {
      "cell_type": "markdown",
      "source": [
        "sort into numerical and categorical columns"
      ],
      "metadata": {
        "id": "3UT4241Lfbdl"
      }
    },
    {
      "cell_type": "code",
      "source": [
        "# Identify numeric and categorical columns\n",
        "numeric_cols = df.select_dtypes(include=['int64', 'float64']).columns\n",
        "categorical_cols = df.select_dtypes(include=['object']).columns\n",
        "\n",
        "print(\"\\nNumeric columns:\", numeric_cols)\n",
        "print(\"\\nCategorical columns:\", categorical_cols)"
      ],
      "metadata": {
        "colab": {
          "base_uri": "https://localhost:8080/"
        },
        "id": "MeUsZrnBfeDp",
        "outputId": "ce11b823-cc32-4de9-b35a-8d0bf70c69b9"
      },
      "execution_count": 60,
      "outputs": [
        {
          "output_type": "stream",
          "name": "stdout",
          "text": [
            "\n",
            "Numeric columns: Index(['Average crystal size (nm)', 'Crystalinity index (%)',\n",
            "       ' BET surface area (m²/g)', 'Pore volume (cm³/g)', 'Temperature (K)',\n",
            "       'Pressure (bar)', 'Hydrogen uptake/adsorption (wt%)',\n",
            "       'Hydrogen desorption (wt%)'],\n",
            "      dtype='object')\n",
            "\n",
            "Categorical columns: Index(['Material name'], dtype='object')\n"
          ]
        }
      ]
    },
    {
      "cell_type": "markdown",
      "source": [
        "Check for missing values"
      ],
      "metadata": {
        "id": "_ZhzR7xlfiKi"
      }
    },
    {
      "cell_type": "code",
      "source": [
        "# Check for missing values\n",
        "missing_values = df.isnull().sum()\n",
        "print(\"Missing values:\\n\", missing_values)"
      ],
      "metadata": {
        "colab": {
          "base_uri": "https://localhost:8080/"
        },
        "id": "B33tZvbwfjto",
        "outputId": "c91cc8cc-3313-4675-e4c2-040b441a8d56"
      },
      "execution_count": 62,
      "outputs": [
        {
          "output_type": "stream",
          "name": "stdout",
          "text": [
            "Missing values:\n",
            " Material name                         0\n",
            "Average crystal size (nm)             0\n",
            "Crystalinity index (%)                0\n",
            " BET surface area (m²/g)              0\n",
            "Pore volume (cm³/g)                   0\n",
            "Temperature (K)                       0\n",
            "Pressure (bar)                        0\n",
            "Hydrogen uptake/adsorption (wt%)    116\n",
            "Hydrogen desorption (wt%)           388\n",
            "dtype: int64\n"
          ]
        }
      ]
    },
    {
      "cell_type": "markdown",
      "source": [
        "Will fill the missing data with zeros"
      ],
      "metadata": {
        "id": "DYTxu0KFg1bI"
      }
    },
    {
      "cell_type": "code",
      "source": [
        "df['Hydrogen uptake/adsorption (wt%)'] = df['Hydrogen uptake/adsorption (wt%)'].fillna(0)\n",
        "df['Hydrogen desorption (wt%)'] = df['Hydrogen desorption (wt%)'].fillna(0)\n",
        "\n",
        "# Verify that missing values have been removed\n",
        "missing_values_after_cleaning = df.isnull().sum()\n",
        "print(\"\\nMissing values after cleaning:\\n\", missing_values_after_cleaning)"
      ],
      "metadata": {
        "colab": {
          "base_uri": "https://localhost:8080/"
        },
        "id": "Q2793e-Lhyzj",
        "outputId": "d8f1e5f0-aadd-47b0-b39a-cf54f224a5e6"
      },
      "execution_count": 63,
      "outputs": [
        {
          "output_type": "stream",
          "name": "stdout",
          "text": [
            "\n",
            "Missing values after cleaning:\n",
            " Material name                       0\n",
            "Average crystal size (nm)           0\n",
            "Crystalinity index (%)              0\n",
            " BET surface area (m²/g)            0\n",
            "Pore volume (cm³/g)                 0\n",
            "Temperature (K)                     0\n",
            "Pressure (bar)                      0\n",
            "Hydrogen uptake/adsorption (wt%)    0\n",
            "Hydrogen desorption (wt%)           0\n",
            "dtype: int64\n"
          ]
        }
      ]
    },
    {
      "cell_type": "code",
      "source": [
        "# Perform one-hot encoding\n",
        "df_encoded = pd.get_dummies(df, columns=categorical_cols)\n",
        "\n",
        "# Print the encoded DataFrame\n",
        "print(df_encoded.head())"
      ],
      "metadata": {
        "colab": {
          "base_uri": "https://localhost:8080/"
        },
        "id": "g0-UAIOSioah",
        "outputId": "b4464db4-d88f-4f99-ad3e-1ef2df6ad96c"
      },
      "execution_count": 64,
      "outputs": [
        {
          "output_type": "stream",
          "name": "stdout",
          "text": [
            "   Average crystal size (nm)  Crystalinity index (%)  \\\n",
            "0                   3.780644               82.394903   \n",
            "1                   3.780644               82.394903   \n",
            "2                   3.780644               82.394903   \n",
            "3                   3.780644               82.394903   \n",
            "4                   3.780644               82.394903   \n",
            "\n",
            "    BET surface area (m²/g)  Pore volume (cm³/g)  Temperature (K)  \\\n",
            "0                     125.2                1.018            298.0   \n",
            "1                     125.2                1.018            298.0   \n",
            "2                     125.2                1.018            298.0   \n",
            "3                     125.2                1.018            298.0   \n",
            "4                     125.2                1.018            298.0   \n",
            "\n",
            "   Pressure (bar)  Hydrogen uptake/adsorption (wt%)  \\\n",
            "0         0.00000                          0.000000   \n",
            "1         4.89664                          0.013857   \n",
            "2        10.06960                          0.018396   \n",
            "3        20.01670                          0.032969   \n",
            "4        29.84140                          0.043720   \n",
            "\n",
            "   Hydrogen desorption (wt%)  \\\n",
            "0                   0.011229   \n",
            "1                   0.000000   \n",
            "2                   0.027713   \n",
            "3                   0.040136   \n",
            "4                   0.049454   \n",
            "\n",
            "   Material name_CNT decorated with Ni at mass ratio of 10  \\\n",
            "0                                              False         \n",
            "1                                              False         \n",
            "2                                              False         \n",
            "3                                              False         \n",
            "4                                              False         \n",
            "\n",
            "   Material name_CNT decorated with Ni at mass ratio of 2  ...  \\\n",
            "0                                              False       ...   \n",
            "1                                              False       ...   \n",
            "2                                              False       ...   \n",
            "3                                              False       ...   \n",
            "4                                              False       ...   \n",
            "\n",
            "   Material name_Carbon nanotube functionalized with HNO3 at 80 °C  \\\n",
            "0                                               True                 \n",
            "1                                               True                 \n",
            "2                                               True                 \n",
            "3                                               True                 \n",
            "4                                               True                 \n",
            "\n",
            "   Material name_MWCNT loaded with Pt  \\\n",
            "0                               False   \n",
            "1                               False   \n",
            "2                               False   \n",
            "3                               False   \n",
            "4                               False   \n",
            "\n",
            "   Material name_Multi-walled carbon nanotube functionalized with DMF and SOCl2 acylation   \\\n",
            "0                                              False                                         \n",
            "1                                              False                                         \n",
            "2                                              False                                         \n",
            "3                                              False                                         \n",
            "4                                              False                                         \n",
            "\n",
            "   Material name_Multi-walled carbon nanotube functionalized with H2SO4 and HNO3 with 3:1 ratio  \\\n",
            "0                                              False                                              \n",
            "1                                              False                                              \n",
            "2                                              False                                              \n",
            "3                                              False                                              \n",
            "4                                              False                                              \n",
            "\n",
            "   Material name_Nitrogen-doped carbon nanorods at 500 °C (NCNR-500)  \\\n",
            "0                                              False                   \n",
            "1                                              False                   \n",
            "2                                              False                   \n",
            "3                                              False                   \n",
            "4                                              False                   \n",
            "\n",
            "   Material name_Nitrogen-doped carbonnanotubes at 900 °C (NCNT-900)  \\\n",
            "0                                              False                   \n",
            "1                                              False                   \n",
            "2                                              False                   \n",
            "3                                              False                   \n",
            "4                                              False                   \n",
            "\n",
            "   Material name_Nitrogen-doped fused bead carbon nanotubes at 700 °C (NCBCT-700)  \\\n",
            "0                                              False                                \n",
            "1                                              False                                \n",
            "2                                              False                                \n",
            "3                                              False                                \n",
            "4                                              False                                \n",
            "\n",
            "   Material name_SWCNT doped with Mg-Ni(Mg45w%,Ni 55w%)  \\\n",
            "0                                              False      \n",
            "1                                              False      \n",
            "2                                              False      \n",
            "3                                              False      \n",
            "4                                              False      \n",
            "\n",
            "   Material name_SWCNT doped with Mg-Ni-Cu(Mg39.6w%,Ni50.3w%,Cu10.1w%)  \\\n",
            "0                                              False                     \n",
            "1                                              False                     \n",
            "2                                              False                     \n",
            "3                                              False                     \n",
            "4                                              False                     \n",
            "\n",
            "   Material name_SWCNT doped with Mg-Ni-Cu(Mg41.2w%,Ni53.6w%,Cu6.2w%)  \n",
            "0                                              False                   \n",
            "1                                              False                   \n",
            "2                                              False                   \n",
            "3                                              False                   \n",
            "4                                              False                   \n",
            "\n",
            "[5 rows x 28 columns]\n"
          ]
        }
      ]
    },
    {
      "cell_type": "markdown",
      "source": [
        "Looking for outliers"
      ],
      "metadata": {
        "id": "kk5azGUsisSf"
      }
    },
    {
      "cell_type": "code",
      "source": [
        "#Looking for outliers\n",
        "\n",
        "import numpy as np\n",
        "import pandas as pd\n",
        "import matplotlib.pyplot as plt\n",
        "import seaborn as sns\n",
        "\n",
        "# Calculate the interquartile range (IQR) for each column\n",
        "Q1 = df[numeric_cols].quantile(0.25)\n",
        "Q3 = df[numeric_cols].quantile(0.75)\n",
        "IQR = Q3 - Q1\n",
        "\n",
        "# Define the outlier threshold\n",
        "outlier_threshold = 1.5 * IQR\n",
        "\n",
        "# Identify outliers\n",
        "outliers = (df[numeric_cols] < (Q1 - outlier_threshold)) | (df[numeric_cols] > (Q3 + outlier_threshold))\n",
        "\n",
        "# Create a figure and axes\n",
        "fig, ax = plt.subplots(figsize=(12, 6))\n",
        "\n",
        "# Create the boxplot\n",
        "sns.boxplot(data=df[numeric_cols], ax=ax)\n",
        "\n",
        "# Set labels and title\n",
        "ax.set_title('Boxplots for Selected Columns')\n",
        "ax.set_xlabel('Columns')\n",
        "ax.set_ylabel('Values')\n",
        "\n",
        "plt.show()\n",
        "\n",
        "# Check if outliers exist\n",
        "if outliers.any().any():\n",
        "    print(\"Outliers detected in the following columns:\")\n",
        "    print(outliers.sum())\n",
        "else:\n",
        "    print(\"No outliers detected.\")"
      ],
      "metadata": {
        "colab": {
          "base_uri": "https://localhost:8080/",
          "height": 746
        },
        "id": "EZGLD63piw7Z",
        "outputId": "d2b8939f-5669-4163-99ba-05cb8da72999"
      },
      "execution_count": 65,
      "outputs": [
        {
          "output_type": "display_data",
          "data": {
            "text/plain": [
              "<Figure size 1200x600 with 1 Axes>"
            ],
            "image/png": "[encoded data removed]"
          },
          "metadata": {}
        },
        {
          "output_type": "stream",
          "name": "stdout",
          "text": [
            "Outliers detected in the following columns:\n",
            "Average crystal size (nm)             0\n",
            "Crystalinity index (%)                0\n",
            " BET surface area (m²/g)              0\n",
            "Pore volume (cm³/g)                   0\n",
            "Temperature (K)                       1\n",
            "Pressure (bar)                        0\n",
            "Hydrogen uptake/adsorption (wt%)     42\n",
            "Hydrogen desorption (wt%)           121\n",
            "dtype: int64\n"
          ]
        }
      ]
    },
    {
      "cell_type": "markdown",
      "source": [
        "Dropping the outliers"
      ],
      "metadata": {
        "id": "toQH_IVnRwyS"
      }
    },
    {
      "cell_type": "code",
      "source": [
        "# Calculate the interquartile range (IQR) for each column\n",
        "Q1 = df[numeric_cols].quantile(0.25)\n",
        "Q3 = df[numeric_cols].quantile(0.75)\n",
        "IQR = Q3 - Q1\n",
        "\n",
        "# Define the outlier threshold\n",
        "outlier_threshold = 2 * IQR\n",
        "\n",
        "# Identify outliers\n",
        "outliers = (df[numeric_cols] < (Q1 - outlier_threshold)) | (df[numeric_cols] > (Q3 + outlier_threshold))\n",
        "\n",
        "# Drop rows containing outliers\n",
        "df = df[~outliers.any(axis=1)]\n",
        "\n",
        "#Re-identifying the outliers for display purposes\n",
        "outliers = (df[numeric_cols] < (Q1 - outlier_threshold)) | (df[numeric_cols] > (Q3 + outlier_threshold))\n",
        "\n",
        "# Check if outliers exist\n",
        "if outliers.any().any():\n",
        "    print(\"Outliers detected in the following columns:\")\n",
        "    print(outliers.sum())\n",
        "else:\n",
        "    print(\"No outliers detected.\")"
      ],
      "metadata": {
        "colab": {
          "base_uri": "https://localhost:8080/"
        },
        "id": "nzJWJpD2i72p",
        "outputId": "a8e23e1e-67b6-4b38-bb6f-9d1da3c80014"
      },
      "execution_count": 66,
      "outputs": [
        {
          "output_type": "stream",
          "name": "stdout",
          "text": [
            "No outliers detected.\n"
          ]
        }
      ]
    },
    {
      "cell_type": "markdown",
      "source": [
        "Check the dataset for duplicates"
      ],
      "metadata": {
        "id": "Kujl_Zv0UfUA"
      }
    },
    {
      "cell_type": "code",
      "source": [
        "# Check for duplicates in the entire dataset\n",
        "duplicates = df.duplicated()\n",
        "# If there are any duplicates, the 'duplicates' variable will contain True for those rows\n",
        "if duplicates.any():\n",
        "    # Get the rows with duplicates\n",
        "    duplicate_rows = df[duplicates]\n",
        "else:\n",
        "    print(\"No duplicates found in the dataset.\")"
      ],
      "metadata": {
        "colab": {
          "base_uri": "https://localhost:8080/"
        },
        "id": "Pu7apqyWUkkA",
        "outputId": "63181422-877d-446b-c2e2-2bcc13d25985"
      },
      "execution_count": 67,
      "outputs": [
        {
          "output_type": "stream",
          "name": "stdout",
          "text": [
            "No duplicates found in the dataset.\n"
          ]
        }
      ]
    },
    {
      "cell_type": "markdown",
      "source": [
        "Looking at Correlations. For the remainder of the machine learning development, Hydrogen uptake will be '1' and hydrogen desorption will be '2'"
      ],
      "metadata": {
        "id": "HCUEJsuyVykE"
      }
    },
    {
      "cell_type": "code",
      "source": [
        "#Redefining numeric columns since I get an error if I don't\n",
        "numeric_cols = df.select_dtypes(include=['float64', 'int64'])\n",
        "\n",
        "# Computing the correlation matrix\n",
        "correlations_1 = numeric_cols.corr()['Hydrogen uptake/adsorption (wt%)']\n",
        "correlations_2 = numeric_cols.corr()['Hydrogen desorption (wt%)']\n",
        "print(correlations_1)\n",
        "print(correlations_2)"
      ],
      "metadata": {
        "colab": {
          "base_uri": "https://localhost:8080/"
        },
        "id": "XJp6gFHNV0kC",
        "outputId": "119ed3c8-8191-43ca-bc5b-074097314abd"
      },
      "execution_count": 68,
      "outputs": [
        {
          "output_type": "stream",
          "name": "stdout",
          "text": [
            "Average crystal size (nm)           0.148362\n",
            "Crystalinity index (%)             -0.269231\n",
            " BET surface area (m²/g)            0.363868\n",
            "Pore volume (cm³/g)                -0.213268\n",
            "Temperature (K)                     0.055753\n",
            "Pressure (bar)                      0.362523\n",
            "Hydrogen uptake/adsorption (wt%)    1.000000\n",
            "Hydrogen desorption (wt%)          -0.270885\n",
            "Name: Hydrogen uptake/adsorption (wt%), dtype: float64\n",
            "Average crystal size (nm)          -0.115451\n",
            "Crystalinity index (%)              0.214369\n",
            " BET surface area (m²/g)           -0.078751\n",
            "Pore volume (cm³/g)                -0.076495\n",
            "Temperature (K)                    -0.064877\n",
            "Pressure (bar)                     -0.102179\n",
            "Hydrogen uptake/adsorption (wt%)   -0.270885\n",
            "Hydrogen desorption (wt%)           1.000000\n",
            "Name: Hydrogen desorption (wt%), dtype: float64\n"
          ]
        }
      ]
    },
    {
      "cell_type": "markdown",
      "source": [
        "Comparing the Random Forest, Gradient Boosting, and XGBoost for the Hydrogen uptake"
      ],
      "metadata": {
        "id": "F4xsq8clYlio"
      }
    },
    {
      "cell_type": "code",
      "source": [
        "X = df.drop('Hydrogen uptake/adsorption (wt%)',axis=1)\n",
        "Y = df['Hydrogen uptake/adsorption (wt%)']\n",
        "\n",
        "# Select only numerical columns (excluding 'object' type)\n",
        "X = X.select_dtypes(exclude=['object'])\n",
        "\n",
        "# Split the dataset into training and testing sets\n",
        "X_train, X_test, y_train, y_test = train_test_split(X, Y, test_size=0.2, random_state=42)\n",
        "\n",
        "#Initializing the models\n",
        "models = {\n",
        "    'Random Forest': RandomForestRegressor(),\n",
        "    'Gradient Boosting': GradientBoostingRegressor(),\n",
        "    'XGBoost': XGBRegressor()\n",
        "}\n",
        "\n",
        "# Train and evaluate each model\n",
        "for name, model in models.items():\n",
        "    model.fit(X_train, y_train)\n",
        "    y_pred = model.predict(X_test)\n",
        "    mse = mean_squared_error(y_test, y_pred)\n",
        "    r2 = r2_score(y_test, y_pred)\n",
        "    mae = mean_absolute_error(y_test, y_pred)\n",
        "    print(f\"{name} Mean Squared Error: {mse:.3f}, R² Score: {r2:.3f}, MAE: {mae:.3f}\")\n",
        "    print(' ')"
      ],
      "metadata": {
        "colab": {
          "base_uri": "https://localhost:8080/"
        },
        "id": "OO42mNfbccMg",
        "outputId": "2222631e-cad9-431d-dd37-fba3354d0c9a"
      },
      "execution_count": 71,
      "outputs": [
        {
          "output_type": "stream",
          "name": "stdout",
          "text": [
            "Random Forest Mean Squared Error: 0.007, R² Score: 0.959, MAE: 0.046\n",
            " \n",
            "Gradient Boosting Mean Squared Error: 0.007, R² Score: 0.958, MAE: 0.058\n",
            " \n",
            "XGBoost Mean Squared Error: 0.005, R² Score: 0.967, MAE: 0.044\n",
            " \n"
          ]
        }
      ]
    },
    {
      "cell_type": "markdown",
      "source": [
        "Doing the same as above, but for the Hydrogen desorption"
      ],
      "metadata": {
        "id": "ZBD52SlCcZq6"
      }
    },
    {
      "cell_type": "code",
      "source": [
        "X = df.drop('Hydrogen desorption (wt%)',axis=1)\n",
        "Y = df['Hydrogen desorption (wt%)']\n",
        "\n",
        "# Select only numerical columns (excluding 'object' type)\n",
        "X = X.select_dtypes(exclude=['object'])\n",
        "\n",
        "# Split the dataset into training and testing sets\n",
        "X_train, X_test, y_train, y_test = train_test_split(X, Y, test_size=0.2, random_state=42)\n",
        "\n",
        "#Initializing the models\n",
        "models = {\n",
        "    'Random Forest': RandomForestRegressor(),\n",
        "    'Gradient Boosting': GradientBoostingRegressor(),\n",
        "    'XGBoost': XGBRegressor()\n",
        "}\n",
        "\n",
        "# Train and evaluate each model\n",
        "for name, model in models.items():\n",
        "    model.fit(X_train, y_train)\n",
        "    y_pred = model.predict(X_test)\n",
        "    mse = mean_squared_error(y_test, y_pred)\n",
        "    r2 = r2_score(y_test, y_pred)\n",
        "    mae = mean_absolute_error(y_test, y_pred)\n",
        "    print(f\"{name} Mean Squared Error: {mse:.3f}, R² Score: {r2:.3f}, MAE: {mae:.3f}\")\n",
        "    print(' ')"
      ],
      "metadata": {
        "colab": {
          "base_uri": "https://localhost:8080/"
        },
        "id": "DqjwhMrWaszG",
        "outputId": "d04f5752-dd4b-420a-b4aa-5638a145a021"
      },
      "execution_count": 72,
      "outputs": [
        {
          "output_type": "stream",
          "name": "stdout",
          "text": [
            "Random Forest Mean Squared Error: 0.000, R² Score: 0.661, MAE: 0.006\n",
            " \n",
            "Gradient Boosting Mean Squared Error: 0.000, R² Score: 0.707, MAE: 0.005\n",
            " \n",
            "XGBoost Mean Squared Error: 0.000, R² Score: 0.716, MAE: 0.005\n",
            " \n"
          ]
        }
      ]
    },
    {
      "cell_type": "markdown",
      "source": [
        "Based on the Mean Squared Error, R2, and MAE, the XGBoost model is the best fitting model for the data."
      ],
      "metadata": {
        "id": "iFHYEj8Wctpv"
      }
    },
    {
      "cell_type": "markdown",
      "source": [
        "Defining Helper Equations for SHAP"
      ],
      "metadata": {
        "id": "akqqBcQ4fsjI"
      }
    },
    {
      "cell_type": "code",
      "source": [
        "def plot_feature_importance(data, target_column, model):\n",
        "    encoded_df = pd.get_dummies(data, columns=['Material name'])\n",
        "    x = encoded_df.drop(target_column, axis=1)\n",
        "    y = encoded_df[target_column]\n",
        "\n",
        "    # Split the dataset into training and testing sets\n",
        "    X_train, X_test, y_train, y_test = train_test_split(x, y, test_size=0.20, random_state=42)\n",
        "\n",
        "    # Train and evaluate the model\n",
        "    model.fit(X_train, y_train)  # Train with scaled data\n",
        "    # Feature Importance plot\n",
        "    feature_importance = model.feature_importances_\n",
        "    sorted_idx = feature_importance.argsort()\n",
        "\n",
        "    fig = go.Figure(go.Bar(\n",
        "        x=feature_importance[sorted_idx],\n",
        "        y=x.columns[sorted_idx],\n",
        "        orientation='h'\n",
        "    ))\n",
        "    fig.update_layout(title=\"Extra Trees Regressor - Feature Importance\")\n",
        "    fig.update_layout(height=600, width=1000, title_text=\"Feature Importance and SHAP Summary\")\n",
        "    fig.show()"
      ],
      "metadata": {
        "id": "DkvH1jdzfwql"
      },
      "execution_count": 77,
      "outputs": []
    },
    {
      "cell_type": "markdown",
      "source": [
        "Using SHAP to find feature importance for Hydrogen uptake"
      ],
      "metadata": {
        "id": "8A-8TubLdUOY"
      }
    },
    {
      "cell_type": "code",
      "source": [
        "# define model to use\n",
        "model = XGBRegressor()\n",
        "plot_feature_importance(df,'Hydrogen uptake/adsorption (wt%)',model)"
      ],
      "metadata": {
        "colab": {
          "base_uri": "https://localhost:8080/",
          "height": 617
        },
        "id": "IbMIxJNIffwC",
        "outputId": "19adcdae-4a4d-4755-9f49-c54f85220c83"
      },
      "execution_count": 78,
      "outputs": [
        {
          "output_type": "display_data",
          "data": {
            "text/html": [
              "<html>\n",
              "<head><meta charset=\"utf-8\" /></head>\n",
              "<body>\n",
              "    <div>            <script src=\"https://cdnjs.cloudflare.com/ajax/libs/mathjax/2.7.5/MathJax.js?config=TeX-AMS-MML_SVG\"></script><script type=\"text/javascript\">if (window.MathJax && window.MathJax.Hub && window.MathJax.Hub.Config) {window.MathJax.Hub.Config({SVG: {font: \"STIX-Web\"}});}</script>                <script type=\"text/javascript\">window.PlotlyConfig = {MathJaxConfig: 'local'};</script>\n",
              "        <script charset=\"utf-8\" src=\"https://cdn.plot.ly/plotly-2.35.2.min.js\"></script>                <div id=\"a176390e-146d-40d0-be9a-bce8d57937ba\" class=\"plotly-graph-div\" style=\"height:600px; width:1000px;\"></div>            <script type=\"text/javascript\">                                    window.PLOTLYENV=window.PLOTLYENV || {};                                    if (document.getElementById(\"a176390e-146d-40d0-be9a-bce8d57937ba\")) {                    Plotly.newPlot(                        \"a176390e-146d-40d0-be9a-bce8d57937ba\",                        [{\"orientation\":\"h\",\"x\":[0.0,0.0,0.0,0.0,0.0,0.0,0.0,0.0,0.0,1.0051617209683172e-05,1.1622168130998034e-05,5.140370922163129e-05,0.00011171049845870584,0.0002558482519816607,0.0008348992560058832,0.001799780409783125,0.002473491244018078,0.003386888885870576,0.00382023467682302,0.006252393126487732,0.010096979327499866,0.01915418542921543,0.046993765980005264,0.05286943167448044,0.16334404051303864,0.2034369707107544,0.4850963056087494],\"y\":[\"Material name_SWCNT doped with Mg-Ni-Cu(Mg41.2w%,Ni53.6w%,Cu6.2w%)\",\"Material name_Nitrogen-doped fused bead carbon nanotubes at 700 \\u00b0C (NCBCT-700)\",\"Material name_Nitrogen-doped carbonnanotubes at 900 \\u00b0C (NCNT-900)\",\"Material name_Multi-walled carbon nanotube functionalized with DMF and SOCl2 acylation \",\"Material name_MWCNT loaded with Pt\",\"Material name_Carbon nanotube functionalized with HNO3 at 80 \\u00b0C\",\"Material name_Carbon nanotube functionalized with HNO3 at 100 \\u00b0C\",\"Material name_Carbon nanotube functionalized with H2SO4:HNO3 at 80 \\u00b0C \",\"Material name_CNT decorated with Ni at mass ratio of 2\",\"Material name_Carbon nanotube doped with Pd nanoparticle for 72 h\",\"Material name_Carbon nanotube functionalized with H2SO4:HNO3 at 100 \\u00b0C \",\"Material name_Multi-walled carbon nanotube functionalized with H2SO4 and HNO3 with 3:1 ratio\",\"Material name_CNT decorated with Ni at mass ratio of 5\",\"Material name_CNT decorated with Ni at mass ratio of 20\",\"Material name_Carbon nanotube doped with Pd nanoparticle for 48 h\",\"Material name_SWCNT doped with Mg-Ni(Mg45w%,Ni 55w%)\",\"Hydrogen desorption (wt%)\",\"Material name_Carbon nanotube doped with Pd nanoparticle for 24 h\",\"Material name_Nitrogen-doped carbon nanorods at 500 \\u00b0C (NCNR-500)\",\"Material name_CNT decorated with Ni at mass ratio of 10\",\"Average crystal size (nm)\",\"Crystalinity index (%)\",\"Pore volume (cm\\u00b3\\u002fg)\",\"Pressure (bar)\",\"Material name_SWCNT doped with Mg-Ni-Cu(Mg39.6w%,Ni50.3w%,Cu10.1w%)\",\" BET surface area (m\\u00b2\\u002fg)\",\"Temperature (K)\"],\"type\":\"bar\"}],                        {\"template\":{\"data\":{\"histogram2dcontour\":[{\"type\":\"histogram2dcontour\",\"colorbar\":{\"outlinewidth\":0,\"ticks\":\"\"},\"colorscale\":[[0.0,\"#0d0887\"],[0.1111111111111111,\"#46039f\"],[0.2222222222222222,\"#7201a8\"],[0.3333333333333333,\"#9c179e\"],[0.4444444444444444,\"#bd3786\"],[0.5555555555555556,\"#d8576b\"],[0.6666666666666666,\"#ed7953\"],[0.7777777777777778,\"#fb9f3a\"],[0.8888888888888888,\"#fdca26\"],[1.0,\"#f0f921\"]]}],\"choropleth\":[{\"type\":\"choropleth\",\"colorbar\":{\"outlinewidth\":0,\"ticks\":\"\"}}],\"histogram2d\":[{\"type\":\"histogram2d\",\"colorbar\":{\"outlinewidth\":0,\"ticks\":\"\"},\"colorscale\":[[0.0,\"#0d0887\"],[0.1111111111111111,\"#46039f\"],[0.2222222222222222,\"#7201a8\"],[0.3333333333333333,\"#9c179e\"],[0.4444444444444444,\"#bd3786\"],[0.5555555555555556,\"#d8576b\"],[0.6666666666666666,\"#ed7953\"],[0.7777777777777778,\"#fb9f3a\"],[0.8888888888888888,\"#fdca26\"],[1.0,\"#f0f921\"]]}],\"heatmap\":[{\"type\":\"heatmap\",\"colorbar\":{\"outlinewidth\":0,\"ticks\":\"\"},\"colorscale\":[[0.0,\"#0d0887\"],[0.1111111111111111,\"#46039f\"],[0.2222222222222222,\"#7201a8\"],[0.3333333333333333,\"#9c179e\"],[0.4444444444444444,\"#bd3786\"],[0.5555555555555556,\"#d8576b\"],[0.6666666666666666,\"#ed7953\"],[0.7777777777777778,\"#fb9f3a\"],[0.8888888888888888,\"#fdca26\"],[1.0,\"#f0f921\"]]}],\"heatmapgl\":[{\"type\":\"heatmapgl\",\"colorbar\":{\"outlinewidth\":0,\"ticks\":\"\"},\"colorscale\":[[0.0,\"#0d0887\"],[0.1111111111111111,\"#46039f\"],[0.2222222222222222,\"#7201a8\"],[0.3333333333333333,\"#9c179e\"],[0.4444444444444444,\"#bd3786\"],[0.5555555555555556,\"#d8576b\"],[0.6666666666666666,\"#ed7953\"],[0.7777777777777778,\"#fb9f3a\"],[0.8888888888888888,\"#fdca26\"],[1.0,\"#f0f921\"]]}],\"contourcarpet\":[{\"type\":\"contourcarpet\",\"colorbar\":{\"outlinewidth\":0,\"ticks\":\"\"}}],\"contour\":[{\"type\":\"contour\",\"colorbar\":{\"outlinewidth\":0,\"ticks\":\"\"},\"colorscale\":[[0.0,\"#0d0887\"],[0.1111111111111111,\"#46039f\"],[0.2222222222222222,\"#7201a8\"],[0.3333333333333333,\"#9c179e\"],[0.4444444444444444,\"#bd3786\"],[0.5555555555555556,\"#d8576b\"],[0.6666666666666666,\"#ed7953\"],[0.7777777777777778,\"#fb9f3a\"],[0.8888888888888888,\"#fdca26\"],[1.0,\"#f0f921\"]]}],\"surface\":[{\"type\":\"surface\",\"colorbar\":{\"outlinewidth\":0,\"ticks\":\"\"},\"colorscale\":[[0.0,\"#0d0887\"],[0.1111111111111111,\"#46039f\"],[0.2222222222222222,\"#7201a8\"],[0.3333333333333333,\"#9c179e\"],[0.4444444444444444,\"#bd3786\"],[0.5555555555555556,\"#d8576b\"],[0.6666666666666666,\"#ed7953\"],[0.7777777777777778,\"#fb9f3a\"],[0.8888888888888888,\"#fdca26\"],[1.0,\"#f0f921\"]]}],\"mesh3d\":[{\"type\":\"mesh3d\",\"colorbar\":{\"outlinewidth\":0,\"ticks\":\"\"}}],\"scatter\":[{\"fillpattern\":{\"fillmode\":\"overlay\",\"size\":10,\"solidity\":0.2},\"type\":\"scatter\"}],\"parcoords\":[{\"type\":\"parcoords\",\"line\":{\"colorbar\":{\"outlinewidth\":0,\"ticks\":\"\"}}}],\"scatterpolargl\":[{\"type\":\"scatterpolargl\",\"marker\":{\"colorbar\":{\"outlinewidth\":0,\"ticks\":\"\"}}}],\"bar\":[{\"error_x\":{\"color\":\"#2a3f5f\"},\"error_y\":{\"color\":\"#2a3f5f\"},\"marker\":{\"line\":{\"color\":\"#E5ECF6\",\"width\":0.5},\"pattern\":{\"fillmode\":\"overlay\",\"size\":10,\"solidity\":0.2}},\"type\":\"bar\"}],\"scattergeo\":[{\"type\":\"scattergeo\",\"marker\":{\"colorbar\":{\"outlinewidth\":0,\"ticks\":\"\"}}}],\"scatterpolar\":[{\"type\":\"scatterpolar\",\"marker\":{\"colorbar\":{\"outlinewidth\":0,\"ticks\":\"\"}}}],\"histogram\":[{\"marker\":{\"pattern\":{\"fillmode\":\"overlay\",\"size\":10,\"solidity\":0.2}},\"type\":\"histogram\"}],\"scattergl\":[{\"type\":\"scattergl\",\"marker\":{\"colorbar\":{\"outlinewidth\":0,\"ticks\":\"\"}}}],\"scatter3d\":[{\"type\":\"scatter3d\",\"line\":{\"colorbar\":{\"outlinewidth\":0,\"ticks\":\"\"}},\"marker\":{\"colorbar\":{\"outlinewidth\":0,\"ticks\":\"\"}}}],\"scattermapbox\":[{\"type\":\"scattermapbox\",\"marker\":{\"colorbar\":{\"outlinewidth\":0,\"ticks\":\"\"}}}],\"scatterternary\":[{\"type\":\"scatterternary\",\"marker\":{\"colorbar\":{\"outlinewidth\":0,\"ticks\":\"\"}}}],\"scattercarpet\":[{\"type\":\"scattercarpet\",\"marker\":{\"colorbar\":{\"outlinewidth\":0,\"ticks\":\"\"}}}],\"carpet\":[{\"aaxis\":{\"endlinecolor\":\"#2a3f5f\",\"gridcolor\":\"white\",\"linecolor\":\"white\",\"minorgridcolor\":\"white\",\"startlinecolor\":\"#2a3f5f\"},\"baxis\":{\"endlinecolor\":\"#2a3f5f\",\"gridcolor\":\"white\",\"linecolor\":\"white\",\"minorgridcolor\":\"white\",\"startlinecolor\":\"#2a3f5f\"},\"type\":\"carpet\"}],\"table\":[{\"cells\":{\"fill\":{\"color\":\"#EBF0F8\"},\"line\":{\"color\":\"white\"}},\"header\":{\"fill\":{\"color\":\"#C8D4E3\"},\"line\":{\"color\":\"white\"}},\"type\":\"table\"}],\"barpolar\":[{\"marker\":{\"line\":{\"color\":\"#E5ECF6\",\"width\":0.5},\"pattern\":{\"fillmode\":\"overlay\",\"size\":10,\"solidity\":0.2}},\"type\":\"barpolar\"}],\"pie\":[{\"automargin\":true,\"type\":\"pie\"}]},\"layout\":{\"autotypenumbers\":\"strict\",\"colorway\":[\"#636efa\",\"#EF553B\",\"#00cc96\",\"#ab63fa\",\"#FFA15A\",\"#19d3f3\",\"#FF6692\",\"#B6E880\",\"#FF97FF\",\"#FECB52\"],\"font\":{\"color\":\"#2a3f5f\"},\"hovermode\":\"closest\",\"hoverlabel\":{\"align\":\"left\"},\"paper_bgcolor\":\"white\",\"plot_bgcolor\":\"#E5ECF6\",\"polar\":{\"bgcolor\":\"#E5ECF6\",\"angularaxis\":{\"gridcolor\":\"white\",\"linecolor\":\"white\",\"ticks\":\"\"},\"radialaxis\":{\"gridcolor\":\"white\",\"linecolor\":\"white\",\"ticks\":\"\"}},\"ternary\":{\"bgcolor\":\"#E5ECF6\",\"aaxis\":{\"gridcolor\":\"white\",\"linecolor\":\"white\",\"ticks\":\"\"},\"baxis\":{\"gridcolor\":\"white\",\"linecolor\":\"white\",\"ticks\":\"\"},\"caxis\":{\"gridcolor\":\"white\",\"linecolor\":\"white\",\"ticks\":\"\"}},\"coloraxis\":{\"colorbar\":{\"outlinewidth\":0,\"ticks\":\"\"}},\"colorscale\":{\"sequential\":[[0.0,\"#0d0887\"],[0.1111111111111111,\"#46039f\"],[0.2222222222222222,\"#7201a8\"],[0.3333333333333333,\"#9c179e\"],[0.4444444444444444,\"#bd3786\"],[0.5555555555555556,\"#d8576b\"],[0.6666666666666666,\"#ed7953\"],[0.7777777777777778,\"#fb9f3a\"],[0.8888888888888888,\"#fdca26\"],[1.0,\"#f0f921\"]],\"sequentialminus\":[[0.0,\"#0d0887\"],[0.1111111111111111,\"#46039f\"],[0.2222222222222222,\"#7201a8\"],[0.3333333333333333,\"#9c179e\"],[0.4444444444444444,\"#bd3786\"],[0.5555555555555556,\"#d8576b\"],[0.6666666666666666,\"#ed7953\"],[0.7777777777777778,\"#fb9f3a\"],[0.8888888888888888,\"#fdca26\"],[1.0,\"#f0f921\"]],\"diverging\":[[0,\"#8e0152\"],[0.1,\"#c51b7d\"],[0.2,\"#de77ae\"],[0.3,\"#f1b6da\"],[0.4,\"#fde0ef\"],[0.5,\"#f7f7f7\"],[0.6,\"#e6f5d0\"],[0.7,\"#b8e186\"],[0.8,\"#7fbc41\"],[0.9,\"#4d9221\"],[1,\"#276419\"]]},\"xaxis\":{\"gridcolor\":\"white\",\"linecolor\":\"white\",\"ticks\":\"\",\"title\":{\"standoff\":15},\"zerolinecolor\":\"white\",\"automargin\":true,\"zerolinewidth\":2},\"yaxis\":{\"gridcolor\":\"white\",\"linecolor\":\"white\",\"ticks\":\"\",\"title\":{\"standoff\":15},\"zerolinecolor\":\"white\",\"automargin\":true,\"zerolinewidth\":2},\"scene\":{\"xaxis\":{\"backgroundcolor\":\"#E5ECF6\",\"gridcolor\":\"white\",\"linecolor\":\"white\",\"showbackground\":true,\"ticks\":\"\",\"zerolinecolor\":\"white\",\"gridwidth\":2},\"yaxis\":{\"backgroundcolor\":\"#E5ECF6\",\"gridcolor\":\"white\",\"linecolor\":\"white\",\"showbackground\":true,\"ticks\":\"\",\"zerolinecolor\":\"white\",\"gridwidth\":2},\"zaxis\":{\"backgroundcolor\":\"#E5ECF6\",\"gridcolor\":\"white\",\"linecolor\":\"white\",\"showbackground\":true,\"ticks\":\"\",\"zerolinecolor\":\"white\",\"gridwidth\":2}},\"shapedefaults\":{\"line\":{\"color\":\"#2a3f5f\"}},\"annotationdefaults\":{\"arrowcolor\":\"#2a3f5f\",\"arrowhead\":0,\"arrowwidth\":1},\"geo\":{\"bgcolor\":\"white\",\"landcolor\":\"#E5ECF6\",\"subunitcolor\":\"white\",\"showland\":true,\"showlakes\":true,\"lakecolor\":\"white\"},\"title\":{\"x\":0.05},\"mapbox\":{\"style\":\"light\"}}},\"title\":{\"text\":\"Feature Importance and SHAP Summary\"},\"height\":600,\"width\":1000},                        {\"responsive\": true}                    ).then(function(){\n",
              "                            \n",
              "var gd = document.getElementById('a176390e-146d-40d0-be9a-bce8d57937ba');\n",
              "var x = new MutationObserver(function (mutations, observer) {{\n",
              "        var display = window.getComputedStyle(gd).display;\n",
              "        if (!display || display === 'none') {{\n",
              "            console.log([gd, 'removed!']);\n",
              "            Plotly.purge(gd);\n",
              "            observer.disconnect();\n",
              "        }}\n",
              "}});\n",
              "\n",
              "// Listen for the removal of the full notebook cells\n",
              "var notebookContainer = gd.closest('#notebook-container');\n",
              "if (notebookContainer) {{\n",
              "    x.observe(notebookContainer, {childList: true});\n",
              "}}\n",
              "\n",
              "// Listen for the clearing of the current output cell\n",
              "var outputEl = gd.closest('.output');\n",
              "if (outputEl) {{\n",
              "    x.observe(outputEl, {childList: true});\n",
              "}}\n",
              "\n",
              "                        })                };                            </script>        </div>\n",
              "</body>\n",
              "</html>"
            ]
          },
          "metadata": {}
        }
      ]
    },
    {
      "cell_type": "markdown",
      "source": [
        "The three most important features for Hydrogen uptake are:\n",
        "Temperature, BET Surface Area, and SWCT doped with Mg Ni Cu"
      ],
      "metadata": {
        "id": "FHPirqK3gsZE"
      }
    },
    {
      "cell_type": "markdown",
      "source": [
        "Using SHAP to find feature importance for Hydrogen desorption"
      ],
      "metadata": {
        "id": "b_F5u_92ggCy"
      }
    },
    {
      "cell_type": "code",
      "source": [
        "# define model to use\n",
        "model = XGBRegressor()\n",
        "plot_feature_importance(df,'Hydrogen desorption (wt%)',model)"
      ],
      "metadata": {
        "colab": {
          "base_uri": "https://localhost:8080/",
          "height": 617
        },
        "id": "U5EnhGZHgj5B",
        "outputId": "d43a689d-e6a3-4f37-96a5-4fa31f7ee08f"
      },
      "execution_count": 79,
      "outputs": [
        {
          "output_type": "display_data",
          "data": {
            "text/html": [
              "<html>\n",
              "<head><meta charset=\"utf-8\" /></head>\n",
              "<body>\n",
              "    <div>            <script src=\"https://cdnjs.cloudflare.com/ajax/libs/mathjax/2.7.5/MathJax.js?config=TeX-AMS-MML_SVG\"></script><script type=\"text/javascript\">if (window.MathJax && window.MathJax.Hub && window.MathJax.Hub.Config) {window.MathJax.Hub.Config({SVG: {font: \"STIX-Web\"}});}</script>                <script type=\"text/javascript\">window.PlotlyConfig = {MathJaxConfig: 'local'};</script>\n",
              "        <script charset=\"utf-8\" src=\"https://cdn.plot.ly/plotly-2.35.2.min.js\"></script>                <div id=\"a6f28e89-a19d-4b68-95a5-47e46904529c\" class=\"plotly-graph-div\" style=\"height:600px; width:1000px;\"></div>            <script type=\"text/javascript\">                                    window.PLOTLYENV=window.PLOTLYENV || {};                                    if (document.getElementById(\"a6f28e89-a19d-4b68-95a5-47e46904529c\")) {                    Plotly.newPlot(                        \"a6f28e89-a19d-4b68-95a5-47e46904529c\",                        [{\"orientation\":\"h\",\"x\":[0.0,0.0,0.0,0.0,0.0,0.0,0.0,0.0,0.0,0.0,0.0,0.0,0.0,0.0,0.0,0.0,0.0,0.0,0.0,0.0,0.00016670976765453815,0.00021936286066193134,0.010668948292732239,0.02991400845348835,0.05074312537908554,0.33140814304351807,0.5768797397613525],\"y\":[\"Material name_Carbon nanotube doped with Pd nanoparticle for 72 h\",\"Material name_SWCNT doped with Mg-Ni(Mg45w%,Ni 55w%)\",\"Material name_Nitrogen-doped fused bead carbon nanotubes at 700 \\u00b0C (NCBCT-700)\",\"Material name_Nitrogen-doped carbonnanotubes at 900 \\u00b0C (NCNT-900)\",\"Material name_Nitrogen-doped carbon nanorods at 500 \\u00b0C (NCNR-500)\",\"Material name_Multi-walled carbon nanotube functionalized with H2SO4 and HNO3 with 3:1 ratio\",\"Material name_Multi-walled carbon nanotube functionalized with DMF and SOCl2 acylation \",\"Material name_MWCNT loaded with Pt\",\"Material name_Carbon nanotube functionalized with HNO3 at 80 \\u00b0C\",\"Material name_Carbon nanotube functionalized with HNO3 at 100 \\u00b0C\",\"Material name_SWCNT doped with Mg-Ni-Cu(Mg39.6w%,Ni50.3w%,Cu10.1w%)\",\"Material name_Carbon nanotube doped with Pd nanoparticle for 48 h\",\"Material name_SWCNT doped with Mg-Ni-Cu(Mg41.2w%,Ni53.6w%,Cu6.2w%)\",\"Material name_CNT decorated with Ni at mass ratio of 5\",\"Material name_CNT decorated with Ni at mass ratio of 20\",\"Material name_CNT decorated with Ni at mass ratio of 2\",\"Material name_CNT decorated with Ni at mass ratio of 10\",\"Temperature (K)\",\" BET surface area (m\\u00b2\\u002fg)\",\"Material name_Carbon nanotube doped with Pd nanoparticle for 24 h\",\"Material name_Carbon nanotube functionalized with H2SO4:HNO3 at 80 \\u00b0C \",\"Pore volume (cm\\u00b3\\u002fg)\",\"Pressure (bar)\",\"Average crystal size (nm)\",\"Material name_Carbon nanotube functionalized with H2SO4:HNO3 at 100 \\u00b0C \",\"Hydrogen uptake\\u002fadsorption (wt%)\",\"Crystalinity index (%)\"],\"type\":\"bar\"}],                        {\"template\":{\"data\":{\"histogram2dcontour\":[{\"type\":\"histogram2dcontour\",\"colorbar\":{\"outlinewidth\":0,\"ticks\":\"\"},\"colorscale\":[[0.0,\"#0d0887\"],[0.1111111111111111,\"#46039f\"],[0.2222222222222222,\"#7201a8\"],[0.3333333333333333,\"#9c179e\"],[0.4444444444444444,\"#bd3786\"],[0.5555555555555556,\"#d8576b\"],[0.6666666666666666,\"#ed7953\"],[0.7777777777777778,\"#fb9f3a\"],[0.8888888888888888,\"#fdca26\"],[1.0,\"#f0f921\"]]}],\"choropleth\":[{\"type\":\"choropleth\",\"colorbar\":{\"outlinewidth\":0,\"ticks\":\"\"}}],\"histogram2d\":[{\"type\":\"histogram2d\",\"colorbar\":{\"outlinewidth\":0,\"ticks\":\"\"},\"colorscale\":[[0.0,\"#0d0887\"],[0.1111111111111111,\"#46039f\"],[0.2222222222222222,\"#7201a8\"],[0.3333333333333333,\"#9c179e\"],[0.4444444444444444,\"#bd3786\"],[0.5555555555555556,\"#d8576b\"],[0.6666666666666666,\"#ed7953\"],[0.7777777777777778,\"#fb9f3a\"],[0.8888888888888888,\"#fdca26\"],[1.0,\"#f0f921\"]]}],\"heatmap\":[{\"type\":\"heatmap\",\"colorbar\":{\"outlinewidth\":0,\"ticks\":\"\"},\"colorscale\":[[0.0,\"#0d0887\"],[0.1111111111111111,\"#46039f\"],[0.2222222222222222,\"#7201a8\"],[0.3333333333333333,\"#9c179e\"],[0.4444444444444444,\"#bd3786\"],[0.5555555555555556,\"#d8576b\"],[0.6666666666666666,\"#ed7953\"],[0.7777777777777778,\"#fb9f3a\"],[0.8888888888888888,\"#fdca26\"],[1.0,\"#f0f921\"]]}],\"heatmapgl\":[{\"type\":\"heatmapgl\",\"colorbar\":{\"outlinewidth\":0,\"ticks\":\"\"},\"colorscale\":[[0.0,\"#0d0887\"],[0.1111111111111111,\"#46039f\"],[0.2222222222222222,\"#7201a8\"],[0.3333333333333333,\"#9c179e\"],[0.4444444444444444,\"#bd3786\"],[0.5555555555555556,\"#d8576b\"],[0.6666666666666666,\"#ed7953\"],[0.7777777777777778,\"#fb9f3a\"],[0.8888888888888888,\"#fdca26\"],[1.0,\"#f0f921\"]]}],\"contourcarpet\":[{\"type\":\"contourcarpet\",\"colorbar\":{\"outlinewidth\":0,\"ticks\":\"\"}}],\"contour\":[{\"type\":\"contour\",\"colorbar\":{\"outlinewidth\":0,\"ticks\":\"\"},\"colorscale\":[[0.0,\"#0d0887\"],[0.1111111111111111,\"#46039f\"],[0.2222222222222222,\"#7201a8\"],[0.3333333333333333,\"#9c179e\"],[0.4444444444444444,\"#bd3786\"],[0.5555555555555556,\"#d8576b\"],[0.6666666666666666,\"#ed7953\"],[0.7777777777777778,\"#fb9f3a\"],[0.8888888888888888,\"#fdca26\"],[1.0,\"#f0f921\"]]}],\"surface\":[{\"type\":\"surface\",\"colorbar\":{\"outlinewidth\":0,\"ticks\":\"\"},\"colorscale\":[[0.0,\"#0d0887\"],[0.1111111111111111,\"#46039f\"],[0.2222222222222222,\"#7201a8\"],[0.3333333333333333,\"#9c179e\"],[0.4444444444444444,\"#bd3786\"],[0.5555555555555556,\"#d8576b\"],[0.6666666666666666,\"#ed7953\"],[0.7777777777777778,\"#fb9f3a\"],[0.8888888888888888,\"#fdca26\"],[1.0,\"#f0f921\"]]}],\"mesh3d\":[{\"type\":\"mesh3d\",\"colorbar\":{\"outlinewidth\":0,\"ticks\":\"\"}}],\"scatter\":[{\"fillpattern\":{\"fillmode\":\"overlay\",\"size\":10,\"solidity\":0.2},\"type\":\"scatter\"}],\"parcoords\":[{\"type\":\"parcoords\",\"line\":{\"colorbar\":{\"outlinewidth\":0,\"ticks\":\"\"}}}],\"scatterpolargl\":[{\"type\":\"scatterpolargl\",\"marker\":{\"colorbar\":{\"outlinewidth\":0,\"ticks\":\"\"}}}],\"bar\":[{\"error_x\":{\"color\":\"#2a3f5f\"},\"error_y\":{\"color\":\"#2a3f5f\"},\"marker\":{\"line\":{\"color\":\"#E5ECF6\",\"width\":0.5},\"pattern\":{\"fillmode\":\"overlay\",\"size\":10,\"solidity\":0.2}},\"type\":\"bar\"}],\"scattergeo\":[{\"type\":\"scattergeo\",\"marker\":{\"colorbar\":{\"outlinewidth\":0,\"ticks\":\"\"}}}],\"scatterpolar\":[{\"type\":\"scatterpolar\",\"marker\":{\"colorbar\":{\"outlinewidth\":0,\"ticks\":\"\"}}}],\"histogram\":[{\"marker\":{\"pattern\":{\"fillmode\":\"overlay\",\"size\":10,\"solidity\":0.2}},\"type\":\"histogram\"}],\"scattergl\":[{\"type\":\"scattergl\",\"marker\":{\"colorbar\":{\"outlinewidth\":0,\"ticks\":\"\"}}}],\"scatter3d\":[{\"type\":\"scatter3d\",\"line\":{\"colorbar\":{\"outlinewidth\":0,\"ticks\":\"\"}},\"marker\":{\"colorbar\":{\"outlinewidth\":0,\"ticks\":\"\"}}}],\"scattermapbox\":[{\"type\":\"scattermapbox\",\"marker\":{\"colorbar\":{\"outlinewidth\":0,\"ticks\":\"\"}}}],\"scatterternary\":[{\"type\":\"scatterternary\",\"marker\":{\"colorbar\":{\"outlinewidth\":0,\"ticks\":\"\"}}}],\"scattercarpet\":[{\"type\":\"scattercarpet\",\"marker\":{\"colorbar\":{\"outlinewidth\":0,\"ticks\":\"\"}}}],\"carpet\":[{\"aaxis\":{\"endlinecolor\":\"#2a3f5f\",\"gridcolor\":\"white\",\"linecolor\":\"white\",\"minorgridcolor\":\"white\",\"startlinecolor\":\"#2a3f5f\"},\"baxis\":{\"endlinecolor\":\"#2a3f5f\",\"gridcolor\":\"white\",\"linecolor\":\"white\",\"minorgridcolor\":\"white\",\"startlinecolor\":\"#2a3f5f\"},\"type\":\"carpet\"}],\"table\":[{\"cells\":{\"fill\":{\"color\":\"#EBF0F8\"},\"line\":{\"color\":\"white\"}},\"header\":{\"fill\":{\"color\":\"#C8D4E3\"},\"line\":{\"color\":\"white\"}},\"type\":\"table\"}],\"barpolar\":[{\"marker\":{\"line\":{\"color\":\"#E5ECF6\",\"width\":0.5},\"pattern\":{\"fillmode\":\"overlay\",\"size\":10,\"solidity\":0.2}},\"type\":\"barpolar\"}],\"pie\":[{\"automargin\":true,\"type\":\"pie\"}]},\"layout\":{\"autotypenumbers\":\"strict\",\"colorway\":[\"#636efa\",\"#EF553B\",\"#00cc96\",\"#ab63fa\",\"#FFA15A\",\"#19d3f3\",\"#FF6692\",\"#B6E880\",\"#FF97FF\",\"#FECB52\"],\"font\":{\"color\":\"#2a3f5f\"},\"hovermode\":\"closest\",\"hoverlabel\":{\"align\":\"left\"},\"paper_bgcolor\":\"white\",\"plot_bgcolor\":\"#E5ECF6\",\"polar\":{\"bgcolor\":\"#E5ECF6\",\"angularaxis\":{\"gridcolor\":\"white\",\"linecolor\":\"white\",\"ticks\":\"\"},\"radialaxis\":{\"gridcolor\":\"white\",\"linecolor\":\"white\",\"ticks\":\"\"}},\"ternary\":{\"bgcolor\":\"#E5ECF6\",\"aaxis\":{\"gridcolor\":\"white\",\"linecolor\":\"white\",\"ticks\":\"\"},\"baxis\":{\"gridcolor\":\"white\",\"linecolor\":\"white\",\"ticks\":\"\"},\"caxis\":{\"gridcolor\":\"white\",\"linecolor\":\"white\",\"ticks\":\"\"}},\"coloraxis\":{\"colorbar\":{\"outlinewidth\":0,\"ticks\":\"\"}},\"colorscale\":{\"sequential\":[[0.0,\"#0d0887\"],[0.1111111111111111,\"#46039f\"],[0.2222222222222222,\"#7201a8\"],[0.3333333333333333,\"#9c179e\"],[0.4444444444444444,\"#bd3786\"],[0.5555555555555556,\"#d8576b\"],[0.6666666666666666,\"#ed7953\"],[0.7777777777777778,\"#fb9f3a\"],[0.8888888888888888,\"#fdca26\"],[1.0,\"#f0f921\"]],\"sequentialminus\":[[0.0,\"#0d0887\"],[0.1111111111111111,\"#46039f\"],[0.2222222222222222,\"#7201a8\"],[0.3333333333333333,\"#9c179e\"],[0.4444444444444444,\"#bd3786\"],[0.5555555555555556,\"#d8576b\"],[0.6666666666666666,\"#ed7953\"],[0.7777777777777778,\"#fb9f3a\"],[0.8888888888888888,\"#fdca26\"],[1.0,\"#f0f921\"]],\"diverging\":[[0,\"#8e0152\"],[0.1,\"#c51b7d\"],[0.2,\"#de77ae\"],[0.3,\"#f1b6da\"],[0.4,\"#fde0ef\"],[0.5,\"#f7f7f7\"],[0.6,\"#e6f5d0\"],[0.7,\"#b8e186\"],[0.8,\"#7fbc41\"],[0.9,\"#4d9221\"],[1,\"#276419\"]]},\"xaxis\":{\"gridcolor\":\"white\",\"linecolor\":\"white\",\"ticks\":\"\",\"title\":{\"standoff\":15},\"zerolinecolor\":\"white\",\"automargin\":true,\"zerolinewidth\":2},\"yaxis\":{\"gridcolor\":\"white\",\"linecolor\":\"white\",\"ticks\":\"\",\"title\":{\"standoff\":15},\"zerolinecolor\":\"white\",\"automargin\":true,\"zerolinewidth\":2},\"scene\":{\"xaxis\":{\"backgroundcolor\":\"#E5ECF6\",\"gridcolor\":\"white\",\"linecolor\":\"white\",\"showbackground\":true,\"ticks\":\"\",\"zerolinecolor\":\"white\",\"gridwidth\":2},\"yaxis\":{\"backgroundcolor\":\"#E5ECF6\",\"gridcolor\":\"white\",\"linecolor\":\"white\",\"showbackground\":true,\"ticks\":\"\",\"zerolinecolor\":\"white\",\"gridwidth\":2},\"zaxis\":{\"backgroundcolor\":\"#E5ECF6\",\"gridcolor\":\"white\",\"linecolor\":\"white\",\"showbackground\":true,\"ticks\":\"\",\"zerolinecolor\":\"white\",\"gridwidth\":2}},\"shapedefaults\":{\"line\":{\"color\":\"#2a3f5f\"}},\"annotationdefaults\":{\"arrowcolor\":\"#2a3f5f\",\"arrowhead\":0,\"arrowwidth\":1},\"geo\":{\"bgcolor\":\"white\",\"landcolor\":\"#E5ECF6\",\"subunitcolor\":\"white\",\"showland\":true,\"showlakes\":true,\"lakecolor\":\"white\"},\"title\":{\"x\":0.05},\"mapbox\":{\"style\":\"light\"}}},\"title\":{\"text\":\"Feature Importance and SHAP Summary\"},\"height\":600,\"width\":1000},                        {\"responsive\": true}                    ).then(function(){\n",
              "                            \n",
              "var gd = document.getElementById('a6f28e89-a19d-4b68-95a5-47e46904529c');\n",
              "var x = new MutationObserver(function (mutations, observer) {{\n",
              "        var display = window.getComputedStyle(gd).display;\n",
              "        if (!display || display === 'none') {{\n",
              "            console.log([gd, 'removed!']);\n",
              "            Plotly.purge(gd);\n",
              "            observer.disconnect();\n",
              "        }}\n",
              "}});\n",
              "\n",
              "// Listen for the removal of the full notebook cells\n",
              "var notebookContainer = gd.closest('#notebook-container');\n",
              "if (notebookContainer) {{\n",
              "    x.observe(notebookContainer, {childList: true});\n",
              "}}\n",
              "\n",
              "// Listen for the clearing of the current output cell\n",
              "var outputEl = gd.closest('.output');\n",
              "if (outputEl) {{\n",
              "    x.observe(outputEl, {childList: true});\n",
              "}}\n",
              "\n",
              "                        })                };                            </script>        </div>\n",
              "</body>\n",
              "</html>"
            ]
          },
          "metadata": {}
        }
      ]
    },
    {
      "cell_type": "markdown",
      "source": [
        "The three most important features for Hydrogen uptake are:\n",
        "Crystalinity index, Carbon nanotube functionalized with H2SO4:HNO3 at 100 C, and Average crystal Size"
      ],
      "metadata": {
        "id": "zv6vcQFMhPyG"
      }
    },
    {
      "cell_type": "markdown",
      "source": [
        "According to the model, Crystalinity index is the most important feature when trying to optimize for hydrogen desorption, and Temperature is the most important feature when optimizing for Hydrogen Uptake."
      ],
      "metadata": {
        "id": "SynpmG2sh6mc"
      }
    }
  ]
}